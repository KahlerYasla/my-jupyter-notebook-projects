{
 "cells": [
  {
   "cell_type": "markdown",
   "metadata": {},
   "source": [
   ]
  },
  {
   "attachments": {},
   "cell_type": "markdown",
   "metadata": {},
   "source": [
    "#### 1. Get the data into a Pandas DataFrame.\n"
   ]
  },
  {
   "cell_type": "code",
   "execution_count": 1,
   "metadata": {},
   "outputs": [],
   "source": [
    "import csv\n",
    "import requests\n",
    "import pandas as pd\n",
    "import openpyxl\n",
    "\n",
    "link = \"https://docs.google.com/spreadsheets/d/1isOVWu-C6UqGy7Kg7sabE6O_Uq1AsMgK/edit#gid=215309859\"\n",
    "\n",
    "# Extract the gid from the URL\n",
    "gid = link.split(\"#gid=\")[1]\n",
    "\n",
    "# Use the gid to download the sheet as a CSV file\n",
    "link = f\"https://docs.google.com/spreadsheets/d/1isOVWu-C6UqGy7Kg7sabE6O_Uq1AsMgK/export?gid={gid}&format=csv\"\n",
    "response = requests.get(link)\n",
    "\n",
    "\n",
    "# Check if the request was successful\n",
    "if response.status_code == 200:\n",
    "    # If the request was successful, the data is stored in the response content\n",
    "    data = response.content\n",
    "else:\n",
    "    # If the request was not successful, print an error message\n",
    "    print(\"Failed to fetch data\")\n",
    "\n",
    "# Parse the data and extract the year and price for each car\n",
    "reader = csv.reader(data.decode(\"utf-8\").splitlines())\n",
    "\n",
    "# Convert the reader object to a list\n",
    "csv_data = list(reader)\n",
    "\n",
    "# Get the column names from the first row of the CSV file\n",
    "column_names = csv_data[0]\n",
    "\n",
    "# Remove the first row from the data\n",
    "data = csv_data[1:]\n",
    "\n",
    "# Create the DataFrame, specifying the column names\n",
    "df = pd.DataFrame(data, columns=column_names)\n",
    "\n",
    "df['Price'] = pd.to_numeric(df['Price'])\n",
    "df['Year'] = pd.to_numeric(df['Year'])\n",
    "df['Km'] = pd.to_numeric(df['Km'])\n",
    "df['Power'] = pd.to_numeric(df['Power'])\n",
    "df['Engine'] = pd.to_numeric(df['Engine'])\n"
   ]
  },
  {
   "attachments": {},
   "cell_type": "markdown",
   "metadata": {},
   "source": [
    "## 2. Data Cleaning\n",
    "\n",
    "Remove the cars where there exists the same car with the same values for all the columns except the price.\n"
   ]
  },
  {
   "cell_type": "code",
   "execution_count": 2,
   "metadata": {},
   "outputs": [],
   "source": [
    "# Create a list of columns to keep\n",
    "columns_to_keep = df.columns.difference(['Price']).to_list()\n",
    "\n",
    "# Create a copy of the DataFrame\n",
    "df_sorted = df.copy()\n",
    "\n",
    "# Sort the copy by price\n",
    "df_sorted.sort_values('Price', ascending=True, inplace=True)\n",
    "\n",
    "# Drop duplicates\n",
    "df_sorted = df_sorted.drop_duplicates(subset=columns_to_keep, keep='first')\n",
    "\n",
    "# Filter the original DataFrame\n",
    "df = df[df.isin(df_sorted)].dropna(how='all')\n",
    "\n",
    "# Save the DataFrame to an Excel file\n",
    "df.to_excel(\"Car_Sales_Data_Analysis.xlsx\", index=False)\n"
   ]
  },
  {
   "attachments": {},
   "cell_type": "markdown",
   "metadata": {},
   "source": [
    "#### 3. Find the average price of cars for each years and return it as a dictionary.\n"
   ]
  },
  {
   "cell_type": "code",
   "execution_count": 3,
   "metadata": {},
   "outputs": [
    {
     "name": "stdout",
     "output_type": "stream",
     "text": [
      "{1970: 42500.0, 1971: 5000.0, 1972: 40000.0, 1974: 28879.8, 1975: 60833.333333333336, 1976: 48155.0, 1977: 59900.0, 1978: 15749.75, 1979: 10316.666666666666, 1980: 23863.333333333332, 1981: 17250.0, 1982: 9449.5, 1983: 15230.0, 1984: 14968.625, 1985: 27872.727272727272, 1986: 59858.1875, 1987: 23983.823529411766, 1988: 15481.25, 1989: 25854.545454545456, 1990: 30047.551020408162, 1991: 23603.048387096773, 1992: 17856.15254237288, 1993: 15343.923076923076, 1994: 22649.296296296296, 1995: 28830.256756756757, 1996: 42260.24074074074, 1997: 37887.72142857143, 1998: 50030.78857142857, 1999: 25564.219178082192, 2000: 33345.17307692308, 2001: 32968.1027027027, 2002: 47636.53333333333, 2003: 51246.65497076023, 2004: 43226.37464788732, 2005: 47998.89935064935, 2006: 61742.11023622047, 2007: 82945.01351351352, 2008: 90628.55584415584, 2009: 93967.71955719557, 2010: 108081.57320099256, 2011: 126674.67919075144, 2012: 160919.57066841415, 2013: 179572.6089527027, 2014: 168873.47517730496, 2015: 197067.40042674253, 2016: 221504.8310502283, 2017: 595158.3150684931}\n"
     ]
    }
   ],
   "source": [
    "# Group the data by the \"Year\" column and compute the average price for each group\n",
    "price_by_year = df.groupby('Year')['Price'].mean()\n",
    "\n",
    "# Convert the index to integers\n",
    "price_by_year.index = price_by_year.index.astype(int)\n",
    "\n",
    "# Convert the Series to a dictionary\n",
    "price_by_year_dict = price_by_year.to_dict()\n",
    "\n",
    "print(price_by_year_dict)\n"
   ]
  },
  {
   "attachments": {},
   "cell_type": "markdown",
   "metadata": {},
   "source": [
    "#### 4. Find the cars with the missing prices and replace them with the average prices of the years they belong to.\n"
   ]
  },
  {
   "cell_type": "code",
   "execution_count": 4,
   "metadata": {},
   "outputs": [],
   "source": [
    "# Find the rows where the 'Price' column is null\n",
    "null_rows = df[df['Price'].isnull()]\n",
    "\n",
    "# Iterate through the rows and fill in the null values with the average price for the corresponding year\n",
    "for i, row in null_rows.iterrows():\n",
    "    year = row['Year']\n",
    "    avg_price = price_by_year_dict[year]\n",
    "    df.at[i, 'Price'] = avg_price\n"
   ]
  },
  {
   "attachments": {},
   "cell_type": "markdown",
   "metadata": {},
   "source": [
    "#### 5. Find the standard deviation of the prices of each brand and return it as a dictionary.\n"
   ]
  },
  {
   "cell_type": "code",
   "execution_count": 5,
   "metadata": {},
   "outputs": [
    {
     "name": "stdout",
     "output_type": "stream",
     "text": [
      "{'Alfa Romeo': 37002.304474248216, 'Audi': 175564.01186993002, 'BMW': 136870.8922399194, 'Bentley': 609241.5690739418, 'Chevrolet': 165712.42098807337, 'Chrysler': 40920.14406538657, 'Citroën': 18244.531875917735, 'Dacia': 16941.266278685358, 'Ferrari': 865219.6242592582, 'Fiat': 20426.701650528237, 'Ford': 45378.430715472416, 'Honda': 24652.803100155805, 'Hyundai': 18594.47161147863, 'Jaguar': 179634.94730611893, 'Kia': 22987.55343759756, 'Lada': 3689.326035603285, 'Lancia': 49732.50185815538, 'Maserati': 237530.9574514164, 'Mazda': 33849.29345737826, 'Mercedes - Benz': 477143.5917487099, 'Mini': 37933.199202376665, 'Nissan': 242100.75513615427, 'Opel': 21684.665649875606, 'Peugeot': 19735.4714258816, 'Porsche': 521514.6922331104, 'Renault': 24779.972606418167, 'Rover': 7451.345227249384, 'Seat': 26851.576996933636, 'Skoda': 39746.11714173413, 'Smart': 10548.696601950403, 'Subaru': 41070.009482826375, 'Suzuki': 17343.853440815008, 'Tata': 4726.45649780478, 'Tofaş': 13955.867262677224, 'Toyota': 20904.68979065753, 'Volkswagen': 36812.28039754986, 'Volvo': 48868.01167188843}\n"
     ]
    }
   ],
   "source": [
    "# Group the data by the 'Brand' column and compute the standard deviation of the prices for each group\n",
    "# price_std_by_brand = df.groupby('Brand')['Price'].std() # This is the easy way to do it\n",
    "\n",
    "# Calculate standard deviation manually\n",
    "price_std_by_brand = df.groupby('Brand')['Price'].apply(lambda group: (sum((x - group.mean())**2 for x in group) / (len(group) - 1))**0.5)\n",
    "\n",
    "# Convert the Series to a dictionary\n",
    "price_std_by_brand_dict = price_std_by_brand.to_dict()\n",
    "\n",
    "print(price_std_by_brand_dict)\n"
   ]
  },
  {
   "attachments": {},
   "cell_type": "markdown",
   "metadata": {},
   "source": [
    "#### 5. Find the average price of each city and return it as a dictionary.\n"
   ]
  },
  {
   "cell_type": "code",
   "execution_count": 6,
   "metadata": {},
   "outputs": [
    {
     "name": "stdout",
     "output_type": "stream",
     "text": [
      "{'Adana': 68493.9263803681, 'Adıyaman': 72804.76190476191, 'Afyonkarahisar': 61468.0, 'Aksaray': 59964.25, 'Amasya': 49477.0, 'Ankara': 87488.58665885111, 'Antalya': 109238.6705882353, 'Ardahan': 47875.0, 'Artvin': 34460.0, 'Aydın': 59367.434782608696, 'Ağrı': 39166.5, 'Balıkesir': 54883.39361702128, 'Bartın': 74183.33333333333, 'Batman': 72102.94117647059, 'Bayburt': 65821.25, 'Bilecik': 73911.11111111111, 'Bingöl': 79200.0, 'Bitlis': 26800.0, 'Bolu': 56273.4375, 'Burdur': 39130.5, 'Bursa': 77510.22648083624, 'Denizli': 66540.31847133758, 'Diyarbakır': 111486.95652173914, 'Düzce': 52372.846153846156, 'Edirne': 55229.166666666664, 'Elazığ': 54994.80487804878, 'Erzincan': 59367.64705882353, 'Erzurum': 69851.58115155487, 'Eskişehir': 91988.81176470588, 'Gaziantep': 110211.19672131147, 'Giresun': 91271.66666666667, 'Gümüşhane': 56833.333333333336, 'Hakkari': 106500.0, 'Hatay': 66825.24752475247, 'Isparta': 65961.84210526316, 'Iğdır': 44785.0, 'Kahramanmaraş': 70820.95161290323, 'Karabük': 69100.0, 'Karaman': 68837.88, 'Kars': 47050.0, 'Kastamonu': 38612.794871794875, 'Kayseri': 59268.51234567901, 'Kilis': 100416.66666666667, 'Kocaeli': 67072.02790697674, 'Konya': 86670.28327645051, 'Kütahya': 45102.27906976744, 'Kırklareli': 74479.125, 'Kırıkkale': 87373.80952380953, 'Kırşehir': 61485.23529411765, 'Malatya': 53728.82692307692, 'Manisa': 47484.779411764706, 'Mardin': 152837.5, 'Mersin': 81331.52372158466, 'Muğla': 65169.66292134832, 'Muş': 67000.0, 'Nevşehir': 77767.14285714286, 'Niğde': 53497.5, 'Ordu': 62468.055555555555, 'Osmaniye': 63355.68571428571, 'Rize': 53380.73809523809, 'Sakarya': 71114.85148514851, 'Samsun': 53470.06428571429, 'Siirt': 76141.5, 'Sinop': 48566.666666666664, 'Sivas': 57411.91176470588, 'Tekirdağ': 56041.65277777778, 'Tokat': 61426.5625, 'Trabzon': 73022.89156626505, 'Tunceli': 70000.0, 'Uşak': 49141.555555555555, 'Van': 82588.3, 'Yalova': 41800.0, 'Yozgat': 48771.206896551725, 'Zonguldak': 65716.78125, 'Çanakkale': 76237.03703703704, 'Çankırı': 65850.0, 'Çorum': 60711.76470588235, 'İstanbul': 219689.66741488964, 'İzmir': 100400.96195652174, 'Şanlıurfa': 88294.09090909091, 'Şırnak': 47437.5}\n"
     ]
    }
   ],
   "source": [
    "# Group the data by the 'City' column and compute the average price for each group\n",
    "price_avg_by_city = df.groupby('City')['Price'].mean()\n",
    "\n",
    "# Convert the Series to a dictionary\n",
    "price_avg_by_city_dict = price_avg_by_city.to_dict()\n",
    "\n",
    "print(price_avg_by_city_dict)\n"
   ]
  },
  {
   "attachments": {},
   "cell_type": "markdown",
   "metadata": {},
   "source": [
    "### 6. Find the average price of each brand and return it as a dictionary.\n"
   ]
  },
  {
   "cell_type": "code",
   "execution_count": 7,
   "metadata": {},
   "outputs": [
    {
     "name": "stdout",
     "output_type": "stream",
     "text": [
      "{'Adana': 68493.9263803681, 'Adıyaman': 72804.76190476191, 'Afyonkarahisar': 61468.0, 'Aksaray': 59964.25, 'Amasya': 49477.0, 'Ankara': 87488.58665885111, 'Antalya': 109238.6705882353, 'Ardahan': 47875.0, 'Artvin': 34460.0, 'Aydın': 59367.434782608696, 'Ağrı': 39166.5, 'Balıkesir': 54883.39361702128, 'Bartın': 74183.33333333333, 'Batman': 72102.94117647059, 'Bayburt': 65821.25, 'Bilecik': 73911.11111111111, 'Bingöl': 79200.0, 'Bitlis': 26800.0, 'Bolu': 56273.4375, 'Burdur': 39130.5, 'Bursa': 77510.22648083624, 'Denizli': 66540.31847133758, 'Diyarbakır': 111486.95652173914, 'Düzce': 52372.846153846156, 'Edirne': 55229.166666666664, 'Elazığ': 54994.80487804878, 'Erzincan': 59367.64705882353, 'Erzurum': 69851.58115155487, 'Eskişehir': 91988.81176470588, 'Gaziantep': 110211.19672131147, 'Giresun': 91271.66666666667, 'Gümüşhane': 56833.333333333336, 'Hakkari': 106500.0, 'Hatay': 66825.24752475247, 'Isparta': 65961.84210526316, 'Iğdır': 44785.0, 'Kahramanmaraş': 70820.95161290323, 'Karabük': 69100.0, 'Karaman': 68837.88, 'Kars': 47050.0, 'Kastamonu': 38612.794871794875, 'Kayseri': 59268.51234567901, 'Kilis': 100416.66666666667, 'Kocaeli': 67072.02790697674, 'Konya': 86670.28327645051, 'Kütahya': 45102.27906976744, 'Kırklareli': 74479.125, 'Kırıkkale': 87373.80952380953, 'Kırşehir': 61485.23529411765, 'Malatya': 53728.82692307692, 'Manisa': 47484.779411764706, 'Mardin': 152837.5, 'Mersin': 81331.52372158466, 'Muğla': 65169.66292134832, 'Muş': 67000.0, 'Nevşehir': 77767.14285714286, 'Niğde': 53497.5, 'Ordu': 62468.055555555555, 'Osmaniye': 63355.68571428571, 'Rize': 53380.73809523809, 'Sakarya': 71114.85148514851, 'Samsun': 53470.06428571429, 'Siirt': 76141.5, 'Sinop': 48566.666666666664, 'Sivas': 57411.91176470588, 'Tekirdağ': 56041.65277777778, 'Tokat': 61426.5625, 'Trabzon': 73022.89156626505, 'Tunceli': 70000.0, 'Uşak': 49141.555555555555, 'Van': 82588.3, 'Yalova': 41800.0, 'Yozgat': 48771.206896551725, 'Zonguldak': 65716.78125, 'Çanakkale': 76237.03703703704, 'Çankırı': 65850.0, 'Çorum': 60711.76470588235, 'İstanbul': 219689.66741488964, 'İzmir': 100400.96195652174, 'Şanlıurfa': 88294.09090909091, 'Şırnak': 47437.5}\n"
     ]
    }
   ],
   "source": [
    "# Group the data by the 'City' column and compute the average price for each group\n",
    "price_avg_by_city = df.groupby('City')['Price'].mean()\n",
    "\n",
    "# Convert the Series to a dictionary\n",
    "price_avg_by_city_dict = price_avg_by_city.to_dict()\n",
    "\n",
    "print(price_avg_by_city_dict)\n"
   ]
  },
  {
   "attachments": {},
   "cell_type": "markdown",
   "metadata": {},
   "source": [
    "### 7. Find the average price of the Mercedes-Benz cars that has automatic transmission in İstanbul.\n"
   ]
  },
  {
   "cell_type": "code",
   "execution_count": 8,
   "metadata": {},
   "outputs": [
    {
     "name": "stdout",
     "output_type": "stream",
     "text": [
      "221824.19675925927\n"
     ]
    }
   ],
   "source": [
    "# Select the rows that have 'Mercedes-Benz' in the 'Brand' column and 'Automatic' in the 'Transmission' column\n",
    "selected_rows = df.loc[(df['Brand'] == 'Mercedes - Benz') & (df['Tranmission'] == 'Otomatik')]\n",
    "\n",
    "# Compute the average price of the selected rows\n",
    "avg_price = selected_rows['Price'].mean()\n",
    "\n",
    "print(avg_price)\n"
   ]
  },
  {
   "attachments": {},
   "cell_type": "markdown",
   "metadata": {},
   "source": [
    "### 8. Find the number of cars whose price is less than 100K TL, between 100K(exclusive) and 200k (inclusive) and larger than 200k(exclusive). The output should be dictionary.\n"
   ]
  },
  {
   "cell_type": "code",
   "execution_count": 9,
   "metadata": {},
   "outputs": [
    {
     "name": "stdout",
     "output_type": "stream",
     "text": [
      "{'0-100': 6181, '100 - 200': 1237, '200 and over': 890}\n"
     ]
    }
   ],
   "source": [
    "# Create a new column with a categorical value based on the price\n",
    "df['Price Range'] = df['Price'].apply(\n",
    "    lambda x: '0-100' if x < 100000 else ('100 - 200' if x <= 200000 else '200 and over'))\n",
    "\n",
    "# Count the number of cars in each category\n",
    "counts = df['Price Range'].value_counts()\n",
    "\n",
    "# Convert the Series to a dictionary\n",
    "counts_dict = counts.to_dict()\n",
    "\n",
    "print(counts_dict)\n"
   ]
  },
  {
   "attachments": {},
   "cell_type": "markdown",
   "metadata": {},
   "source": [
    "### 9. Write a function which generates the lists above automatically."
   ]
  },
  {
   "cell_type": "code",
   "execution_count": 10,
   "metadata": {},
   "outputs": [],
   "source": [
    "def count_cars_by_price_range(df, ranges):\n",
    "    # Initialize a dictionary to store the counts for each price range\n",
    "    counts_dict = {f\"0-{ranges[0]}\": 0}\n",
    "    for i in range(len(ranges)-1):\n",
    "        counts_dict[f\"{ranges[i]}-{ranges[i+1]}\"] = 0\n",
    "    counts_dict[f\"{ranges[-1]} and over\"] = 0\n",
    "\n",
    "    # Iterate over the prices and increment the appropriate count\n",
    "    for price in df['Price']:\n",
    "        if price < ranges[0] * 1000:\n",
    "            counts_dict[f\"0-{ranges[0]}\"] += 1\n",
    "        elif price >= ranges[-1] * 1000:\n",
    "            counts_dict[f\"{ranges[-1]} and over\"] += 1\n",
    "        else:\n",
    "            for i in range(len(ranges)-1):\n",
    "                if ranges[i] * 1000 <= price < ranges[i+1] * 1000:\n",
    "                    counts_dict[f\"{ranges[i]}-{ranges[i+1]}\"] += 1\n",
    "                    break\n",
    "\n",
    "    return counts_dict\n"
   ]
  },
  {
   "cell_type": "code",
   "execution_count": 11,
   "metadata": {},
   "outputs": [
    {
     "name": "stdout",
     "output_type": "stream",
     "text": [
      "{'0-50': 3799, '50-100': 2382, '100-150': 784, '150-200': 448, '200-250': 158, '250 and over': 737}\n"
     ]
    }
   ],
   "source": [
    "# Test the function\n",
    "counts_dict = count_cars_by_price_range(df, [50, 100, 150, 200, 250])\n",
    "print(counts_dict)\n"
   ]
  },
  {
   "attachments": {},
   "cell_type": "markdown",
   "metadata": {},
   "source": [
    "### 10. Find the number of cars that has an automatic transmission whose price is less than 100K TL, between 100K(exclusive) and 200k (inclusive) and larger than 200k(exclusive).\n"
   ]
  },
  {
   "cell_type": "code",
   "execution_count": 12,
   "metadata": {},
   "outputs": [
    {
     "name": "stdout",
     "output_type": "stream",
     "text": [
      "Less than 100: 6181\n",
      "Between 100 and 200: 1232\n",
      "Larger than 200: 895\n"
     ]
    }
   ],
   "source": [
    "# Count the number of cars in each price range\n",
    "counts_dict = count_cars_by_price_range(df, [100, 200])\n",
    "\n",
    "# Find the number of cars whose price is less than 100K TL\n",
    "less_than_100K = counts_dict[\"0-100\"]\n",
    "\n",
    "# Find the number of cars whose price is between 100K(exclusive) and 200k (inclusive)\n",
    "between_100K_and_200K = counts_dict[\"100-200\"]\n",
    "\n",
    "# Find the number of cars whose price is larger than 200k(exclusive)\n",
    "over_200K = counts_dict[\"200 and over\"]\n",
    "\n",
    "# Print the counts\n",
    "print(f\"Less than 100: {less_than_100K}\")\n",
    "print(f\"Between 100 and 200: {between_100K_and_200K}\")\n",
    "print(f\"Larger than 200: {over_200K}\")\n"
   ]
  },
  {
   "attachments": {},
   "cell_type": "markdown",
   "metadata": {},
   "source": [
    "### 11. For every brand, find the difference for the average prices of automatic transmission and manual transmission and return it as a dictionary.\n"
   ]
  },
  {
   "cell_type": "code",
   "execution_count": 13,
   "metadata": {},
   "outputs": [
    {
     "name": "stdout",
     "output_type": "stream",
     "text": [
      "{'Alfa Romeo': 61746.05263157895, 'Audi': 193193.29770444764, 'BMW': 126054.5900297619, 'Bentley': nan, 'Chevrolet': 116794.31682496608, 'Chrysler': 45766.24396135265, 'Citroën': 28825.0, 'Dacia': nan, 'Ferrari': 320501.5, 'Fiat': 16245.912903225806, 'Ford': 14589.256944444445, 'Honda': 4754.658455181176, 'Hyundai': 18558.901361796103, 'Jaguar': 102530.26666666666, 'Kia': 26238.46752893125, 'Lada': nan, 'Lancia': 145062.5, 'Maserati': 399772.1875, 'Mazda': 40613.57757885763, 'Mercedes - Benz': 187574.9813746439, 'Mini': 12906.159090909096, 'Nissan': 179088.06844597505, 'Opel': 21115.19720382634, 'Peugeot': 15391.659648361194, 'Porsche': 540567.8792517006, 'Renault': 10776.616571428574, 'Rover': 14640.5, 'Seat': 24065.064671814667, 'Skoda': 45389.46064942212, 'Smart': nan, 'Subaru': -21222.475, 'Suzuki': 9210.193779904308, 'Tata': nan, 'Tofaş': nan, 'Toyota': -5249.250398724078, 'Volkswagen': 17530.88711909709, 'Volvo': 13544.894697812386}\n"
     ]
    }
   ],
   "source": [
    "# Group the DataFrame by the 'Brand' column and the 'Transmission' column\n",
    "df_grouped = df.groupby(['Brand', 'Tranmission'])\n",
    "\n",
    "# Calculate the average price for each group\n",
    "df_mean = df_grouped['Price'].mean()\n",
    "\n",
    "# Convert the resulting Series to a DataFrame\n",
    "df_mean = df_mean.reset_index()\n",
    "\n",
    "# Pivot the DataFrame to create columns for each brand and transmission type\n",
    "df_pivot = df_mean.pivot(index='Brand', columns='Tranmission', values='Price')\n",
    "\n",
    "# Calculate the difference between the average prices for automatic and manual transmission for each brand\n",
    "df_diff = df_pivot['Otomatik'].subtract(df_pivot['Manuel'])\n",
    "\n",
    "# Convert the resulting Series to a dictionary\n",
    "diff_dict = df_diff.to_dict()\n",
    "\n",
    "print(diff_dict)\n"
   ]
  },
  {
   "attachments": {},
   "cell_type": "markdown",
   "metadata": {},
   "source": [
    "### 12. Create a new dataframe which is ordered in terms of the prices of the cars.\n"
   ]
  },
  {
   "cell_type": "code",
   "execution_count": 14,
   "metadata": {},
   "outputs": [],
   "source": [
    "pd_sorted_by_price = df.sort_values('Price', ascending=False)\n",
    "\n",
    "# Convert the DataFrame to a excel file\n",
    "pd_sorted_by_price.to_excel('cars_sorted_by_price.xlsx', index=False)\n"
   ]
  },
  {
   "attachments": {},
   "cell_type": "markdown",
   "metadata": {},
   "source": [
    "### 13. Create a new dataframe which is ordered in terms of the cities first and then prices of the cars.\n"
   ]
  },
  {
   "cell_type": "code",
   "execution_count": null,
   "metadata": {},
   "outputs": [],
   "source": [
    "pd_sorted_by_city_and_price = df.sort_values(['City', 'Price'], ascending=[True, False])\n",
    "\n",
    "# Convert the DataFrame to a excel file\n",
    "pd_sorted_by_city_and_price.to_excel('cars_sorted_by_city_and_price.xlsx', index=False)\n"
   ]
  },
  {
   "attachments": {},
   "cell_type": "markdown",
   "metadata": {},
   "source": [
    "### 14. Divide the price of the cars by its power (Cost/power) and add it as a new column to the datafame.\n"
   ]
  },
  {
   "cell_type": "code",
   "execution_count": null,
   "metadata": {},
   "outputs": [],
   "source": [
    "# Create a new column with the price per horsepower and add it to the DataFrame\n",
    "df['CostPerPower'] = df['Price'] / df['Power']\n",
    "\n",
    "# Convert the DataFrame to a excel file\n",
    "df.to_excel('cars_with_cost_per_power.xlsx', index=False)\n"
   ]
  },
  {
   "attachments": {},
   "cell_type": "markdown",
   "metadata": {},
   "source": [
    "### 15. How many different series each brand have? The output should be a dictionary.\n"
   ]
  },
  {
   "cell_type": "code",
   "execution_count": null,
   "metadata": {},
   "outputs": [],
   "source": [
    "# Group the DataFrame by the 'Brand' column and count how many series each brand has\n",
    "df_grouped = df.groupby('Brand')['Series'].nunique()\n",
    "\n",
    "# count how many series each brand has and create a dictionary\n",
    "brand_series_count_dict = {}\n",
    "\n",
    "for brand, count in df_grouped.items():\n",
    "    brand_series_count_dict[brand] = count\n",
    "\n",
    "print(brand_series_count_dict)\n"
   ]
  },
  {
   "attachments": {},
   "cell_type": "markdown",
   "metadata": {},
   "source": [
    "### 16. Write a function called analyze_car_data.\n"
   ]
  },
  {
   "cell_type": "code",
   "execution_count": null,
   "metadata": {},
   "outputs": [],
   "source": [
    "def analyze_car_data(count_type, property_type):\n",
    "    if count_type == \"Price\":\n",
    "        return df.groupby(property_type)[\"Price\"].mean().to_dict()\n",
    "    elif count_type == \"Count\":\n",
    "        return df[property_type].value_counts().to_dict()\n",
    "    elif count_type == \"Power\":\n",
    "        return df.groupby(property_type)[\"Power\"].mean().to_dict()\n",
    "    else:\n",
    "        raise ValueError(\"Invalid count type. Choose from 'Price', 'Count', or 'Power'.\")\n"
   ]
  },
  {
   "cell_type": "code",
   "execution_count": null,
   "metadata": {},
   "outputs": [],
   "source": [
    "# If you call the function as follows then it will return the average car price of each city.\n",
    "analyze_car_data(\"Price\", \"City\")\n"
   ]
  },
  {
   "cell_type": "code",
   "execution_count": null,
   "metadata": {},
   "outputs": [],
   "source": [
    "# For example, if you call the function as follows then it will return the number of cars for each transmission type.\n",
    "analyze_car_data(\"Count\", \"Tranmission\")\n"
   ]
  },
  {
   "cell_type": "code",
   "execution_count": null,
   "metadata": {},
   "outputs": [],
   "source": [
    "# If you call the function as follows then it will return the average power of cars for each Brand.\n",
    "analyze_car_data(\"Power\", \"Brand\")\n"
   ]
  }
 ],
 "metadata": {
  "kernelspec": {
   "display_name": "Python 3",
   "language": "python",
   "name": "python3"
  },
  "language_info": {
   "codemirror_mode": {
    "name": "ipython",
    "version": 3
   },
   "file_extension": ".py",
   "mimetype": "text/x-python",
   "name": "python",
   "nbconvert_exporter": "python",
   "pygments_lexer": "ipython3",
   "version": "3.10.9 (main, Dec 19 2022, 17:35:49) [GCC 12.2.0]"
  },
  "vscode": {
   "interpreter": {
    "hash": "767d51c1340bd893661ea55ea3124f6de3c7a262a8b4abca0554b478b1e2ff90"
   }
  }
 },
 "nbformat": 4,
 "nbformat_minor": 2
}
