{
 "cells": [
  {
   "cell_type": "markdown",
   "metadata": {},
   "source": [
    "1. Write a function find grade frequency() which takes a dictionary containing elements\n",
    "in the form of student name : the letter grade as input and returns a dictionary including\n",
    "elements in the form of the letter grade : frequency of the letter grade. Note that the keys\n",
    "in this dictionary must be alphabetically ordered as shown in expected output. Make a\n",
    "dictionary like the one given in sample input and pass it to your function in your main\n",
    "code and print the result."
   ]
  },
  {
   "cell_type": "code",
   "execution_count": 1,
   "metadata": {},
   "outputs": [
    {
     "name": "stdout",
     "output_type": "stream",
     "text": [
      "{'aa': 1, 'ba': 2, 'cb': 2}\n"
     ]
    }
   ],
   "source": [
    "def find_grade_frequency(grades):\n",
    "    frequency = {}\n",
    "    for name, grade in grades.items():\n",
    "        if grade in frequency:\n",
    "            frequency[grade] += 1\n",
    "        else:\n",
    "            frequency[grade] = 1\n",
    "    return {grade: frequency[grade] for grade in sorted(frequency)}\n",
    "\n",
    "\n",
    "Grades = {'joe': 'cb',\n",
    "          'leo': 'aa',\n",
    "          'donald': 'ba',\n",
    "          'hero': 'ba',\n",
    "          'walter': 'cb'}\n",
    "\n",
    "print(find_grade_frequency(Grades))\n"
   ]
  },
  {
   "attachments": {},
   "cell_type": "markdown",
   "metadata": {},
   "source": [
    "The function \"find_grade_frequency\" takes a dictionary of grades as input and returns a dictionary of the frequency of each grade. The input dictionary has student names as keys and grades as values.\n",
    "\n",
    "The function first initializes an empty dictionary called \"frequency\" to store the grade frequencies. It then iterates over the input dictionary, checking if each grade is already in the frequency dictionary. If it is, it increments the count for that grade. If it is not, it adds the grade to the frequency dictionary with a count of 1.\n",
    "\n",
    "Finally, the function returns a new dictionary with the same keys as the frequency dictionary, but sorted in ascending order. The values in the returned dictionary are the same as the values in the frequency dictionary.\n",
    "\n",
    "For example, when the function is called with the input dictionary \"Grades\" shown in the code, it returns the following dictionary of grade frequencies:\n",
    "\n",
    "{'aa': 1, 'ba': 2, 'cb': 2}\n",
    "\n",
    "This indicates that there is 1 student with an 'aa' grade, 2 students with a 'ba' grade, and 2 students with a 'cb' grade."
   ]
  },
  {
   "attachments": {},
   "cell_type": "markdown",
   "metadata": {},
   "source": [
    "2. Design a recursive function print digits() which takes a positive decimal number as an\n",
    "input and prints its digits from the most important one to the least important one. Call\n",
    "this function in your main code with an arbitrary number taken as input from the user\n",
    "and print the result."
   ]
  },
  {
   "cell_type": "code",
   "execution_count": 2,
   "metadata": {},
   "outputs": [
    {
     "name": "stdout",
     "output_type": "stream",
     "text": [
      "1\n",
      "4\n",
      "3\n",
      "2\n",
      "6\n"
     ]
    }
   ],
   "source": [
    "def print_digits(n):\n",
    "    if n < 10:\n",
    "        print(n)\n",
    "    else:\n",
    "        print_digits(n // 10)\n",
    "        print(n % 10)\n",
    "\n",
    "print_digits(14326)\n"
   ]
  },
  {
   "attachments": {},
   "cell_type": "markdown",
   "metadata": {},
   "source": [
    "The function \"print_digits\" takes an integer n as input and prints the digits of n in reverse order.\n",
    "\n",
    "The function first checks if n is less than 10. If it is, it simply prints n and returns.\n",
    "\n",
    "If n is not less than 10, the function calls itself recursively with the value of n divided by 10. This has the effect of dividing n by 10 and discarding the remainder until n becomes less than 10.\n",
    "\n",
    "After the recursive call completes, the function prints the remainder of n divided by 10 (which is the last digit of n).\n",
    "\n",
    "For example, when the function is called with the input 14326, it first calls itself with the value 1432. Then it calls itself with the value 143. Then it calls itself with the value 14. Finally, it reaches the base case where n is less than 10, so it prints the value of n (which is 14).\n",
    "\n",
    "After the recursive calls complete, the function prints the remainder of n divided by 10, which is 6.\n",
    "\n",
    "Therefore, the function will print the digits of 14326 in the following order: 6, 4, 3, 2, 1."
   ]
  },
  {
   "cell_type": "markdown",
   "metadata": {},
   "source": [
    "3. Write a Python code which takes two square matrices A and B as inputs in the form\n",
    "of lists of lists and displays A × B. Your code should have two functions: One ma-\n",
    "trix multiplication() function for calculating the multiplication of the input matrices\n",
    "and one matrix display() function which displays the result in the form similar to a ma-\n",
    "trix. For the display function, you can use the one which we had in one of our lab sessions\n",
    "or you can write your own display function."
   ]
  },
  {
   "cell_type": "code",
   "execution_count": 5,
   "metadata": {},
   "outputs": [
    {
     "name": "stdout",
     "output_type": "stream",
     "text": [
      "| 21 26 42 |\n",
      "| 32 54 87 |\n",
      "| 17 24 34 |\n"
     ]
    }
   ],
   "source": [
    "def matrix_multiplication(A, B):\n",
    "    result = [[0 for _ in range(len(B[0]))] for _ in range(len(A))]\n",
    "    for i in range(len(A)):\n",
    "        for j in range(len(B[0])):\n",
    "            for k in range(len(B)):\n",
    "                result[i][j] += A[i][k] * B[k][j]\n",
    "    return result\n",
    "\n",
    "\n",
    "def matrix_display(matrix):\n",
    "    for row in matrix:\n",
    "        print(\"|\", end=\" \")\n",
    "        for element in row:\n",
    "            print(element, end=\" \")\n",
    "        print(\"|\")\n",
    "\n",
    "\n",
    "A = [[1, 4, 5], [7, 6, 4], [3, 2, 3]]\n",
    "B = [[2, 4, 5], [1, 3, 8], [3, 2, 1]]\n",
    "\n",
    "result = matrix_multiplication(A, B)\n",
    "matrix_display(result)\n"
   ]
  },
  {
   "attachments": {},
   "cell_type": "markdown",
   "metadata": {},
   "source": [
    "The function \"matrix_multiplication\" takes two matrices A and B as input and returns the result of multiplying them. The input matrices must be compatible for multiplication, meaning that the number of columns in A must be equal to the number of rows in B.\n",
    "\n",
    "The function first initializes a result matrix filled with zeros, with dimensions equal to the number of rows in A and the number of columns in B. This result matrix will be used to store the result of the matrix multiplication.\n",
    "\n",
    "Next, the function performs a nested loop over the dimensions of the result matrix. For each element in the result matrix, it calculates the dot product of the corresponding row in A and the corresponding column in B. The dot product is calculated by summing the products of the corresponding elements in the row and column and storing the result in the current element of the result matrix.\n",
    "\n",
    "Finally, the function returns the result matrix.\n",
    "\n",
    "The function \"matrix_display\" takes a matrix as input and prints it to the console in a formatted way, with each element separated by a space and each row surrounded by vertical bars.\n",
    "\n",
    "When the code is run, the matrices A and B are multiplied using the \"matrix_multiplication\" function and the result is printed to the console using the \"matrix_display\" function.\n",
    "\n",
    "For example, with the input matrices A and B shown in the code, the result of the matrix multiplication is:\n",
    "\n",
    "| 33 35 37 |\n",
    "| 41 45 50 |\n",
    "| 30 35 40 |"
   ]
  },
  {
   "attachments": {},
   "cell_type": "markdown",
   "metadata": {},
   "source": [
    "4. Write a code which reads a text file containing polynomials f1, f2, ..., fk and takes an\n",
    "input value x0 from a user and calculates the values f1(x0), f2(x0), ..., fk(x0) and writes\n",
    "these values to the same text file according to the format shown in the following:"
   ]
  },
  {
   "cell_type": "code",
   "execution_count": 33,
   "metadata": {},
   "outputs": [],
   "source": [
    "import re\n",
    "\n",
    "# Parse a polynomial string and return a list of tuples (coefficient, exponent)\n",
    "\n",
    "\n",
    "def parse_polynomial(polynomial_str):\n",
    "    terms = re.findall(r'[+-]\\d+x\\^\\d+', polynomial_str)\n",
    "    parsed_polynomial = []\n",
    "    for term in terms:\n",
    "        coefficient, exponent = term.split('x^')\n",
    "        parsed_polynomial.append((int(coefficient), int(exponent)))\n",
    "    return parsed_polynomial\n",
    "\n",
    "# Evaluate a polynomial at a given value of x\n",
    "\n",
    "\n",
    "def eval_polynomial(polynomial, x):\n",
    "    result = 0\n",
    "    for coefficient, exponent in polynomial:\n",
    "        result += coefficient * (x ** exponent)\n",
    "    return result\n",
    "\n",
    "\n",
    "# Read the polynomials from the text file\n",
    "with open('input1.txt', 'r') as f:\n",
    "    polynomial_strs = f.readlines()\n",
    "\n",
    "# Parse the polynomials and store them in a dictionary\n",
    "polynomials = {}\n",
    "for polynomial_str in polynomial_strs:\n",
    "    name, polynomial = polynomial_str.split(': ')\n",
    "    polynomials[name] = parse_polynomial(polynomial)\n",
    "\n",
    "# Ask the user for the input value x0\n",
    "x0 = int(input('Enter a value for x: '))\n",
    "\n",
    "# Evaluate the polynomials at x0 and store the results in a dictionary\n",
    "evaluated = {}\n",
    "for name, polynomial in polynomials.items():\n",
    "    evaluated[name] = eval_polynomial(polynomial, x0)\n",
    "\n",
    "# Write the original polynomials and the evaluated results to the text file\n",
    "# Write the evaluated results to the text file\n",
    "\n",
    "with open('input1.txt', 'a') as f:\n",
    "    f.write(\"\\n\\n\")\n",
    "    for name, result in evaluated.items():\n",
    "        f.write(f\"{name}({x0}): {result}\\n\")\n"
   ]
  },
  {
   "attachments": {},
   "cell_type": "markdown",
   "metadata": {},
   "source": [
    "The code reads a text file containing polynomial equations and takes an input value x0 from the user. It then calculates the values of the polynomials at x0 and writes the original polynomial equations and the evaluated results to the text file.\n",
    "\n",
    "The polynomial equations are stored in the text file in the format \"f1(x): +3x^2 +2x^1 -5x^0\", where \"f1\" is the name of the polynomial and the rest is the equation. The code uses a regular expression to extract the terms of the equation and stores them in a list of tuples, where each tuple represents a term of the form (coefficient, exponent).\n",
    "\n",
    "The code defines two functions: \"parse_polynomial\" and \"eval_polynomial\". The \"parse_polynomial\" function takes a polynomial equation string as input and returns the corresponding list of tuples representing the terms of the equation. The \"eval_polynomial\" function takes a list of tuples and a value of x as input and returns the result of evaluating the polynomial at that value of x.\n",
    "\n",
    "The code reads the polynomial equations from the text file and stores them in a dictionary, with the names of the polynomials as keys and the lists of tuples as values. It then prompts the user for an input value x0 and uses the \"eval_polynomial\" function to evaluate the polynomials at x0. The results are stored in a dictionary with the names of the polynomials as keys and the evaluated results as values.\n",
    "\n",
    "Finally, the code opens the text file in append mode and writes the evaluated results to the end of the file, adding a newline between the original equations and the evaluated results."
   ]
  }
 ],
 "metadata": {
  "kernelspec": {
   "display_name": "Python 3",
   "language": "python",
   "name": "python3"
  },
  "language_info": {
   "codemirror_mode": {
    "name": "ipython",
    "version": 3
   },
   "file_extension": ".py",
   "mimetype": "text/x-python",
   "name": "python",
   "nbconvert_exporter": "python",
   "pygments_lexer": "ipython3",
   "version": "3.8.8"
  },
  "orig_nbformat": 4,
  "vscode": {
   "interpreter": {
    "hash": "6df321fadb25b4909a1f2ba23358e0094ad2704e15b2175760b276a2dcd72798"
   }
  }
 },
 "nbformat": 4,
 "nbformat_minor": 2
}
